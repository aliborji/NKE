{
  "nbformat": 4,
  "nbformat_minor": 0,
  "metadata": {
    "accelerator": "GPU",
    "colab": {
      "name": "NTE_MNIST.ipynb",
      "provenance": [],
      "collapsed_sections": []
    },
    "kernelspec": {
      "display_name": "Python 3",
      "language": "python",
      "name": "python3"
    },
    "language_info": {
      "codemirror_mode": {
        "name": "ipython",
        "version": 3
      },
      "file_extension": ".py",
      "mimetype": "text/x-python",
      "name": "python",
      "nbconvert_exporter": "python",
      "pygments_lexer": "ipython3",
      "version": "3.7.3"
    },
    "widgets": {
      "application/vnd.jupyter.widget-state+json": {
        "c9dabdf5ebcb4a838f1b0b0017055c76": {
          "model_module": "@jupyter-widgets/controls",
          "model_name": "HBoxModel",
          "model_module_version": "1.5.0",
          "state": {
            "_dom_classes": [],
            "_model_module": "@jupyter-widgets/controls",
            "_model_module_version": "1.5.0",
            "_model_name": "HBoxModel",
            "_view_count": null,
            "_view_module": "@jupyter-widgets/controls",
            "_view_module_version": "1.5.0",
            "_view_name": "HBoxView",
            "box_style": "",
            "children": [
              "IPY_MODEL_6ff9c9d5d644461ba6f84e6bc664c135",
              "IPY_MODEL_dda87fe520974bc1bea1174580d76a16",
              "IPY_MODEL_41212acc5c4f47e1a25148924e23fb1c"
            ],
            "layout": "IPY_MODEL_439446e4cf614ac2b512b4fadd32710a"
          }
        },
        "6ff9c9d5d644461ba6f84e6bc664c135": {
          "model_module": "@jupyter-widgets/controls",
          "model_name": "HTMLModel",
          "model_module_version": "1.5.0",
          "state": {
            "_dom_classes": [],
            "_model_module": "@jupyter-widgets/controls",
            "_model_module_version": "1.5.0",
            "_model_name": "HTMLModel",
            "_view_count": null,
            "_view_module": "@jupyter-widgets/controls",
            "_view_module_version": "1.5.0",
            "_view_name": "HTMLView",
            "description": "",
            "description_tooltip": null,
            "layout": "IPY_MODEL_ed92eb90ed0b4474b98c41ddec23c0c5",
            "placeholder": "​",
            "style": "IPY_MODEL_d4876b1e1d3e407c99b1d4ca519f5bf8",
            "value": "100%"
          }
        },
        "dda87fe520974bc1bea1174580d76a16": {
          "model_module": "@jupyter-widgets/controls",
          "model_name": "FloatProgressModel",
          "model_module_version": "1.5.0",
          "state": {
            "_dom_classes": [],
            "_model_module": "@jupyter-widgets/controls",
            "_model_module_version": "1.5.0",
            "_model_name": "FloatProgressModel",
            "_view_count": null,
            "_view_module": "@jupyter-widgets/controls",
            "_view_module_version": "1.5.0",
            "_view_name": "ProgressView",
            "bar_style": "success",
            "description": "",
            "description_tooltip": null,
            "layout": "IPY_MODEL_c6f3c71c7c794854b7c56f3506edcd0e",
            "max": 9912422,
            "min": 0,
            "orientation": "horizontal",
            "style": "IPY_MODEL_c0b7553ef2b94006aa5dad36d5f8ba8e",
            "value": 9912422
          }
        },
        "41212acc5c4f47e1a25148924e23fb1c": {
          "model_module": "@jupyter-widgets/controls",
          "model_name": "HTMLModel",
          "model_module_version": "1.5.0",
          "state": {
            "_dom_classes": [],
            "_model_module": "@jupyter-widgets/controls",
            "_model_module_version": "1.5.0",
            "_model_name": "HTMLModel",
            "_view_count": null,
            "_view_module": "@jupyter-widgets/controls",
            "_view_module_version": "1.5.0",
            "_view_name": "HTMLView",
            "description": "",
            "description_tooltip": null,
            "layout": "IPY_MODEL_823c8adac0c14d4f804e65215334860e",
            "placeholder": "​",
            "style": "IPY_MODEL_50544fa042fa41f2ac8325c24d7e15aa",
            "value": " 9912422/9912422 [00:00&lt;00:00, 10026778.37it/s]"
          }
        },
        "439446e4cf614ac2b512b4fadd32710a": {
          "model_module": "@jupyter-widgets/base",
          "model_name": "LayoutModel",
          "model_module_version": "1.2.0",
          "state": {
            "_model_module": "@jupyter-widgets/base",
            "_model_module_version": "1.2.0",
            "_model_name": "LayoutModel",
            "_view_count": null,
            "_view_module": "@jupyter-widgets/base",
            "_view_module_version": "1.2.0",
            "_view_name": "LayoutView",
            "align_content": null,
            "align_items": null,
            "align_self": null,
            "border": null,
            "bottom": null,
            "display": null,
            "flex": null,
            "flex_flow": null,
            "grid_area": null,
            "grid_auto_columns": null,
            "grid_auto_flow": null,
            "grid_auto_rows": null,
            "grid_column": null,
            "grid_gap": null,
            "grid_row": null,
            "grid_template_areas": null,
            "grid_template_columns": null,
            "grid_template_rows": null,
            "height": null,
            "justify_content": null,
            "justify_items": null,
            "left": null,
            "margin": null,
            "max_height": null,
            "max_width": null,
            "min_height": null,
            "min_width": null,
            "object_fit": null,
            "object_position": null,
            "order": null,
            "overflow": null,
            "overflow_x": null,
            "overflow_y": null,
            "padding": null,
            "right": null,
            "top": null,
            "visibility": null,
            "width": null
          }
        },
        "ed92eb90ed0b4474b98c41ddec23c0c5": {
          "model_module": "@jupyter-widgets/base",
          "model_name": "LayoutModel",
          "model_module_version": "1.2.0",
          "state": {
            "_model_module": "@jupyter-widgets/base",
            "_model_module_version": "1.2.0",
            "_model_name": "LayoutModel",
            "_view_count": null,
            "_view_module": "@jupyter-widgets/base",
            "_view_module_version": "1.2.0",
            "_view_name": "LayoutView",
            "align_content": null,
            "align_items": null,
            "align_self": null,
            "border": null,
            "bottom": null,
            "display": null,
            "flex": null,
            "flex_flow": null,
            "grid_area": null,
            "grid_auto_columns": null,
            "grid_auto_flow": null,
            "grid_auto_rows": null,
            "grid_column": null,
            "grid_gap": null,
            "grid_row": null,
            "grid_template_areas": null,
            "grid_template_columns": null,
            "grid_template_rows": null,
            "height": null,
            "justify_content": null,
            "justify_items": null,
            "left": null,
            "margin": null,
            "max_height": null,
            "max_width": null,
            "min_height": null,
            "min_width": null,
            "object_fit": null,
            "object_position": null,
            "order": null,
            "overflow": null,
            "overflow_x": null,
            "overflow_y": null,
            "padding": null,
            "right": null,
            "top": null,
            "visibility": null,
            "width": null
          }
        },
        "d4876b1e1d3e407c99b1d4ca519f5bf8": {
          "model_module": "@jupyter-widgets/controls",
          "model_name": "DescriptionStyleModel",
          "model_module_version": "1.5.0",
          "state": {
            "_model_module": "@jupyter-widgets/controls",
            "_model_module_version": "1.5.0",
            "_model_name": "DescriptionStyleModel",
            "_view_count": null,
            "_view_module": "@jupyter-widgets/base",
            "_view_module_version": "1.2.0",
            "_view_name": "StyleView",
            "description_width": ""
          }
        },
        "c6f3c71c7c794854b7c56f3506edcd0e": {
          "model_module": "@jupyter-widgets/base",
          "model_name": "LayoutModel",
          "model_module_version": "1.2.0",
          "state": {
            "_model_module": "@jupyter-widgets/base",
            "_model_module_version": "1.2.0",
            "_model_name": "LayoutModel",
            "_view_count": null,
            "_view_module": "@jupyter-widgets/base",
            "_view_module_version": "1.2.0",
            "_view_name": "LayoutView",
            "align_content": null,
            "align_items": null,
            "align_self": null,
            "border": null,
            "bottom": null,
            "display": null,
            "flex": null,
            "flex_flow": null,
            "grid_area": null,
            "grid_auto_columns": null,
            "grid_auto_flow": null,
            "grid_auto_rows": null,
            "grid_column": null,
            "grid_gap": null,
            "grid_row": null,
            "grid_template_areas": null,
            "grid_template_columns": null,
            "grid_template_rows": null,
            "height": null,
            "justify_content": null,
            "justify_items": null,
            "left": null,
            "margin": null,
            "max_height": null,
            "max_width": null,
            "min_height": null,
            "min_width": null,
            "object_fit": null,
            "object_position": null,
            "order": null,
            "overflow": null,
            "overflow_x": null,
            "overflow_y": null,
            "padding": null,
            "right": null,
            "top": null,
            "visibility": null,
            "width": null
          }
        },
        "c0b7553ef2b94006aa5dad36d5f8ba8e": {
          "model_module": "@jupyter-widgets/controls",
          "model_name": "ProgressStyleModel",
          "model_module_version": "1.5.0",
          "state": {
            "_model_module": "@jupyter-widgets/controls",
            "_model_module_version": "1.5.0",
            "_model_name": "ProgressStyleModel",
            "_view_count": null,
            "_view_module": "@jupyter-widgets/base",
            "_view_module_version": "1.2.0",
            "_view_name": "StyleView",
            "bar_color": null,
            "description_width": ""
          }
        },
        "823c8adac0c14d4f804e65215334860e": {
          "model_module": "@jupyter-widgets/base",
          "model_name": "LayoutModel",
          "model_module_version": "1.2.0",
          "state": {
            "_model_module": "@jupyter-widgets/base",
            "_model_module_version": "1.2.0",
            "_model_name": "LayoutModel",
            "_view_count": null,
            "_view_module": "@jupyter-widgets/base",
            "_view_module_version": "1.2.0",
            "_view_name": "LayoutView",
            "align_content": null,
            "align_items": null,
            "align_self": null,
            "border": null,
            "bottom": null,
            "display": null,
            "flex": null,
            "flex_flow": null,
            "grid_area": null,
            "grid_auto_columns": null,
            "grid_auto_flow": null,
            "grid_auto_rows": null,
            "grid_column": null,
            "grid_gap": null,
            "grid_row": null,
            "grid_template_areas": null,
            "grid_template_columns": null,
            "grid_template_rows": null,
            "height": null,
            "justify_content": null,
            "justify_items": null,
            "left": null,
            "margin": null,
            "max_height": null,
            "max_width": null,
            "min_height": null,
            "min_width": null,
            "object_fit": null,
            "object_position": null,
            "order": null,
            "overflow": null,
            "overflow_x": null,
            "overflow_y": null,
            "padding": null,
            "right": null,
            "top": null,
            "visibility": null,
            "width": null
          }
        },
        "50544fa042fa41f2ac8325c24d7e15aa": {
          "model_module": "@jupyter-widgets/controls",
          "model_name": "DescriptionStyleModel",
          "model_module_version": "1.5.0",
          "state": {
            "_model_module": "@jupyter-widgets/controls",
            "_model_module_version": "1.5.0",
            "_model_name": "DescriptionStyleModel",
            "_view_count": null,
            "_view_module": "@jupyter-widgets/base",
            "_view_module_version": "1.2.0",
            "_view_name": "StyleView",
            "description_width": ""
          }
        },
        "b39148e7b98f4ebb8f560ed391705493": {
          "model_module": "@jupyter-widgets/controls",
          "model_name": "HBoxModel",
          "model_module_version": "1.5.0",
          "state": {
            "_dom_classes": [],
            "_model_module": "@jupyter-widgets/controls",
            "_model_module_version": "1.5.0",
            "_model_name": "HBoxModel",
            "_view_count": null,
            "_view_module": "@jupyter-widgets/controls",
            "_view_module_version": "1.5.0",
            "_view_name": "HBoxView",
            "box_style": "",
            "children": [
              "IPY_MODEL_d29ca47b43bc4d5097ba0fa3d956a6c4",
              "IPY_MODEL_e7d2ca99be734137b43797c86867c1a7",
              "IPY_MODEL_1993ec102e1b49f18424f205e87cc20b"
            ],
            "layout": "IPY_MODEL_e9fc20d7e968489686f23258786e812e"
          }
        },
        "d29ca47b43bc4d5097ba0fa3d956a6c4": {
          "model_module": "@jupyter-widgets/controls",
          "model_name": "HTMLModel",
          "model_module_version": "1.5.0",
          "state": {
            "_dom_classes": [],
            "_model_module": "@jupyter-widgets/controls",
            "_model_module_version": "1.5.0",
            "_model_name": "HTMLModel",
            "_view_count": null,
            "_view_module": "@jupyter-widgets/controls",
            "_view_module_version": "1.5.0",
            "_view_name": "HTMLView",
            "description": "",
            "description_tooltip": null,
            "layout": "IPY_MODEL_a3d9c3abe593453aa572fd6f1dd49179",
            "placeholder": "​",
            "style": "IPY_MODEL_52c65c761b3a4a62a8b863a9fbb5e24a",
            "value": "100%"
          }
        },
        "e7d2ca99be734137b43797c86867c1a7": {
          "model_module": "@jupyter-widgets/controls",
          "model_name": "FloatProgressModel",
          "model_module_version": "1.5.0",
          "state": {
            "_dom_classes": [],
            "_model_module": "@jupyter-widgets/controls",
            "_model_module_version": "1.5.0",
            "_model_name": "FloatProgressModel",
            "_view_count": null,
            "_view_module": "@jupyter-widgets/controls",
            "_view_module_version": "1.5.0",
            "_view_name": "ProgressView",
            "bar_style": "success",
            "description": "",
            "description_tooltip": null,
            "layout": "IPY_MODEL_cec6581a60c04ebbb3d00fbede694885",
            "max": 28881,
            "min": 0,
            "orientation": "horizontal",
            "style": "IPY_MODEL_52493904e5424d3d939fb07f5b9add15",
            "value": 28881
          }
        },
        "1993ec102e1b49f18424f205e87cc20b": {
          "model_module": "@jupyter-widgets/controls",
          "model_name": "HTMLModel",
          "model_module_version": "1.5.0",
          "state": {
            "_dom_classes": [],
            "_model_module": "@jupyter-widgets/controls",
            "_model_module_version": "1.5.0",
            "_model_name": "HTMLModel",
            "_view_count": null,
            "_view_module": "@jupyter-widgets/controls",
            "_view_module_version": "1.5.0",
            "_view_name": "HTMLView",
            "description": "",
            "description_tooltip": null,
            "layout": "IPY_MODEL_741a95806f244286a95c88f9e1dae406",
            "placeholder": "​",
            "style": "IPY_MODEL_679707f1aa6c4d4097c3af638a15e22e",
            "value": " 28881/28881 [00:00&lt;00:00, 943578.73it/s]"
          }
        },
        "e9fc20d7e968489686f23258786e812e": {
          "model_module": "@jupyter-widgets/base",
          "model_name": "LayoutModel",
          "model_module_version": "1.2.0",
          "state": {
            "_model_module": "@jupyter-widgets/base",
            "_model_module_version": "1.2.0",
            "_model_name": "LayoutModel",
            "_view_count": null,
            "_view_module": "@jupyter-widgets/base",
            "_view_module_version": "1.2.0",
            "_view_name": "LayoutView",
            "align_content": null,
            "align_items": null,
            "align_self": null,
            "border": null,
            "bottom": null,
            "display": null,
            "flex": null,
            "flex_flow": null,
            "grid_area": null,
            "grid_auto_columns": null,
            "grid_auto_flow": null,
            "grid_auto_rows": null,
            "grid_column": null,
            "grid_gap": null,
            "grid_row": null,
            "grid_template_areas": null,
            "grid_template_columns": null,
            "grid_template_rows": null,
            "height": null,
            "justify_content": null,
            "justify_items": null,
            "left": null,
            "margin": null,
            "max_height": null,
            "max_width": null,
            "min_height": null,
            "min_width": null,
            "object_fit": null,
            "object_position": null,
            "order": null,
            "overflow": null,
            "overflow_x": null,
            "overflow_y": null,
            "padding": null,
            "right": null,
            "top": null,
            "visibility": null,
            "width": null
          }
        },
        "a3d9c3abe593453aa572fd6f1dd49179": {
          "model_module": "@jupyter-widgets/base",
          "model_name": "LayoutModel",
          "model_module_version": "1.2.0",
          "state": {
            "_model_module": "@jupyter-widgets/base",
            "_model_module_version": "1.2.0",
            "_model_name": "LayoutModel",
            "_view_count": null,
            "_view_module": "@jupyter-widgets/base",
            "_view_module_version": "1.2.0",
            "_view_name": "LayoutView",
            "align_content": null,
            "align_items": null,
            "align_self": null,
            "border": null,
            "bottom": null,
            "display": null,
            "flex": null,
            "flex_flow": null,
            "grid_area": null,
            "grid_auto_columns": null,
            "grid_auto_flow": null,
            "grid_auto_rows": null,
            "grid_column": null,
            "grid_gap": null,
            "grid_row": null,
            "grid_template_areas": null,
            "grid_template_columns": null,
            "grid_template_rows": null,
            "height": null,
            "justify_content": null,
            "justify_items": null,
            "left": null,
            "margin": null,
            "max_height": null,
            "max_width": null,
            "min_height": null,
            "min_width": null,
            "object_fit": null,
            "object_position": null,
            "order": null,
            "overflow": null,
            "overflow_x": null,
            "overflow_y": null,
            "padding": null,
            "right": null,
            "top": null,
            "visibility": null,
            "width": null
          }
        },
        "52c65c761b3a4a62a8b863a9fbb5e24a": {
          "model_module": "@jupyter-widgets/controls",
          "model_name": "DescriptionStyleModel",
          "model_module_version": "1.5.0",
          "state": {
            "_model_module": "@jupyter-widgets/controls",
            "_model_module_version": "1.5.0",
            "_model_name": "DescriptionStyleModel",
            "_view_count": null,
            "_view_module": "@jupyter-widgets/base",
            "_view_module_version": "1.2.0",
            "_view_name": "StyleView",
            "description_width": ""
          }
        },
        "cec6581a60c04ebbb3d00fbede694885": {
          "model_module": "@jupyter-widgets/base",
          "model_name": "LayoutModel",
          "model_module_version": "1.2.0",
          "state": {
            "_model_module": "@jupyter-widgets/base",
            "_model_module_version": "1.2.0",
            "_model_name": "LayoutModel",
            "_view_count": null,
            "_view_module": "@jupyter-widgets/base",
            "_view_module_version": "1.2.0",
            "_view_name": "LayoutView",
            "align_content": null,
            "align_items": null,
            "align_self": null,
            "border": null,
            "bottom": null,
            "display": null,
            "flex": null,
            "flex_flow": null,
            "grid_area": null,
            "grid_auto_columns": null,
            "grid_auto_flow": null,
            "grid_auto_rows": null,
            "grid_column": null,
            "grid_gap": null,
            "grid_row": null,
            "grid_template_areas": null,
            "grid_template_columns": null,
            "grid_template_rows": null,
            "height": null,
            "justify_content": null,
            "justify_items": null,
            "left": null,
            "margin": null,
            "max_height": null,
            "max_width": null,
            "min_height": null,
            "min_width": null,
            "object_fit": null,
            "object_position": null,
            "order": null,
            "overflow": null,
            "overflow_x": null,
            "overflow_y": null,
            "padding": null,
            "right": null,
            "top": null,
            "visibility": null,
            "width": null
          }
        },
        "52493904e5424d3d939fb07f5b9add15": {
          "model_module": "@jupyter-widgets/controls",
          "model_name": "ProgressStyleModel",
          "model_module_version": "1.5.0",
          "state": {
            "_model_module": "@jupyter-widgets/controls",
            "_model_module_version": "1.5.0",
            "_model_name": "ProgressStyleModel",
            "_view_count": null,
            "_view_module": "@jupyter-widgets/base",
            "_view_module_version": "1.2.0",
            "_view_name": "StyleView",
            "bar_color": null,
            "description_width": ""
          }
        },
        "741a95806f244286a95c88f9e1dae406": {
          "model_module": "@jupyter-widgets/base",
          "model_name": "LayoutModel",
          "model_module_version": "1.2.0",
          "state": {
            "_model_module": "@jupyter-widgets/base",
            "_model_module_version": "1.2.0",
            "_model_name": "LayoutModel",
            "_view_count": null,
            "_view_module": "@jupyter-widgets/base",
            "_view_module_version": "1.2.0",
            "_view_name": "LayoutView",
            "align_content": null,
            "align_items": null,
            "align_self": null,
            "border": null,
            "bottom": null,
            "display": null,
            "flex": null,
            "flex_flow": null,
            "grid_area": null,
            "grid_auto_columns": null,
            "grid_auto_flow": null,
            "grid_auto_rows": null,
            "grid_column": null,
            "grid_gap": null,
            "grid_row": null,
            "grid_template_areas": null,
            "grid_template_columns": null,
            "grid_template_rows": null,
            "height": null,
            "justify_content": null,
            "justify_items": null,
            "left": null,
            "margin": null,
            "max_height": null,
            "max_width": null,
            "min_height": null,
            "min_width": null,
            "object_fit": null,
            "object_position": null,
            "order": null,
            "overflow": null,
            "overflow_x": null,
            "overflow_y": null,
            "padding": null,
            "right": null,
            "top": null,
            "visibility": null,
            "width": null
          }
        },
        "679707f1aa6c4d4097c3af638a15e22e": {
          "model_module": "@jupyter-widgets/controls",
          "model_name": "DescriptionStyleModel",
          "model_module_version": "1.5.0",
          "state": {
            "_model_module": "@jupyter-widgets/controls",
            "_model_module_version": "1.5.0",
            "_model_name": "DescriptionStyleModel",
            "_view_count": null,
            "_view_module": "@jupyter-widgets/base",
            "_view_module_version": "1.2.0",
            "_view_name": "StyleView",
            "description_width": ""
          }
        },
        "22bbb23884544dbcaf0efd635686656f": {
          "model_module": "@jupyter-widgets/controls",
          "model_name": "HBoxModel",
          "model_module_version": "1.5.0",
          "state": {
            "_dom_classes": [],
            "_model_module": "@jupyter-widgets/controls",
            "_model_module_version": "1.5.0",
            "_model_name": "HBoxModel",
            "_view_count": null,
            "_view_module": "@jupyter-widgets/controls",
            "_view_module_version": "1.5.0",
            "_view_name": "HBoxView",
            "box_style": "",
            "children": [
              "IPY_MODEL_0b766033348f4fe68078cf22b74803ab",
              "IPY_MODEL_5ebc2310ea414439862e9ae2764f5714",
              "IPY_MODEL_d2d7ced8f810404b901932cecc93d9d9"
            ],
            "layout": "IPY_MODEL_1da4ff1873594e82aff3fd6109aa2d9f"
          }
        },
        "0b766033348f4fe68078cf22b74803ab": {
          "model_module": "@jupyter-widgets/controls",
          "model_name": "HTMLModel",
          "model_module_version": "1.5.0",
          "state": {
            "_dom_classes": [],
            "_model_module": "@jupyter-widgets/controls",
            "_model_module_version": "1.5.0",
            "_model_name": "HTMLModel",
            "_view_count": null,
            "_view_module": "@jupyter-widgets/controls",
            "_view_module_version": "1.5.0",
            "_view_name": "HTMLView",
            "description": "",
            "description_tooltip": null,
            "layout": "IPY_MODEL_ce7389ad0f9c48b9a2c126d81b21ae61",
            "placeholder": "​",
            "style": "IPY_MODEL_b051220aed3f40e1a7f07e001dd04c50",
            "value": "100%"
          }
        },
        "5ebc2310ea414439862e9ae2764f5714": {
          "model_module": "@jupyter-widgets/controls",
          "model_name": "FloatProgressModel",
          "model_module_version": "1.5.0",
          "state": {
            "_dom_classes": [],
            "_model_module": "@jupyter-widgets/controls",
            "_model_module_version": "1.5.0",
            "_model_name": "FloatProgressModel",
            "_view_count": null,
            "_view_module": "@jupyter-widgets/controls",
            "_view_module_version": "1.5.0",
            "_view_name": "ProgressView",
            "bar_style": "success",
            "description": "",
            "description_tooltip": null,
            "layout": "IPY_MODEL_047b41c2f29147bfb8f77181ef4b7530",
            "max": 1648877,
            "min": 0,
            "orientation": "horizontal",
            "style": "IPY_MODEL_e430c2e5f8614f289e3a05cc274b1ea4",
            "value": 1648877
          }
        },
        "d2d7ced8f810404b901932cecc93d9d9": {
          "model_module": "@jupyter-widgets/controls",
          "model_name": "HTMLModel",
          "model_module_version": "1.5.0",
          "state": {
            "_dom_classes": [],
            "_model_module": "@jupyter-widgets/controls",
            "_model_module_version": "1.5.0",
            "_model_name": "HTMLModel",
            "_view_count": null,
            "_view_module": "@jupyter-widgets/controls",
            "_view_module_version": "1.5.0",
            "_view_name": "HTMLView",
            "description": "",
            "description_tooltip": null,
            "layout": "IPY_MODEL_a02e6c59a6af4a8bab46485e66444ff0",
            "placeholder": "​",
            "style": "IPY_MODEL_29c012eead6646b7bae1fcb7e10fbd35",
            "value": " 1648877/1648877 [00:00&lt;00:00, 5277817.24it/s]"
          }
        },
        "1da4ff1873594e82aff3fd6109aa2d9f": {
          "model_module": "@jupyter-widgets/base",
          "model_name": "LayoutModel",
          "model_module_version": "1.2.0",
          "state": {
            "_model_module": "@jupyter-widgets/base",
            "_model_module_version": "1.2.0",
            "_model_name": "LayoutModel",
            "_view_count": null,
            "_view_module": "@jupyter-widgets/base",
            "_view_module_version": "1.2.0",
            "_view_name": "LayoutView",
            "align_content": null,
            "align_items": null,
            "align_self": null,
            "border": null,
            "bottom": null,
            "display": null,
            "flex": null,
            "flex_flow": null,
            "grid_area": null,
            "grid_auto_columns": null,
            "grid_auto_flow": null,
            "grid_auto_rows": null,
            "grid_column": null,
            "grid_gap": null,
            "grid_row": null,
            "grid_template_areas": null,
            "grid_template_columns": null,
            "grid_template_rows": null,
            "height": null,
            "justify_content": null,
            "justify_items": null,
            "left": null,
            "margin": null,
            "max_height": null,
            "max_width": null,
            "min_height": null,
            "min_width": null,
            "object_fit": null,
            "object_position": null,
            "order": null,
            "overflow": null,
            "overflow_x": null,
            "overflow_y": null,
            "padding": null,
            "right": null,
            "top": null,
            "visibility": null,
            "width": null
          }
        },
        "ce7389ad0f9c48b9a2c126d81b21ae61": {
          "model_module": "@jupyter-widgets/base",
          "model_name": "LayoutModel",
          "model_module_version": "1.2.0",
          "state": {
            "_model_module": "@jupyter-widgets/base",
            "_model_module_version": "1.2.0",
            "_model_name": "LayoutModel",
            "_view_count": null,
            "_view_module": "@jupyter-widgets/base",
            "_view_module_version": "1.2.0",
            "_view_name": "LayoutView",
            "align_content": null,
            "align_items": null,
            "align_self": null,
            "border": null,
            "bottom": null,
            "display": null,
            "flex": null,
            "flex_flow": null,
            "grid_area": null,
            "grid_auto_columns": null,
            "grid_auto_flow": null,
            "grid_auto_rows": null,
            "grid_column": null,
            "grid_gap": null,
            "grid_row": null,
            "grid_template_areas": null,
            "grid_template_columns": null,
            "grid_template_rows": null,
            "height": null,
            "justify_content": null,
            "justify_items": null,
            "left": null,
            "margin": null,
            "max_height": null,
            "max_width": null,
            "min_height": null,
            "min_width": null,
            "object_fit": null,
            "object_position": null,
            "order": null,
            "overflow": null,
            "overflow_x": null,
            "overflow_y": null,
            "padding": null,
            "right": null,
            "top": null,
            "visibility": null,
            "width": null
          }
        },
        "b051220aed3f40e1a7f07e001dd04c50": {
          "model_module": "@jupyter-widgets/controls",
          "model_name": "DescriptionStyleModel",
          "model_module_version": "1.5.0",
          "state": {
            "_model_module": "@jupyter-widgets/controls",
            "_model_module_version": "1.5.0",
            "_model_name": "DescriptionStyleModel",
            "_view_count": null,
            "_view_module": "@jupyter-widgets/base",
            "_view_module_version": "1.2.0",
            "_view_name": "StyleView",
            "description_width": ""
          }
        },
        "047b41c2f29147bfb8f77181ef4b7530": {
          "model_module": "@jupyter-widgets/base",
          "model_name": "LayoutModel",
          "model_module_version": "1.2.0",
          "state": {
            "_model_module": "@jupyter-widgets/base",
            "_model_module_version": "1.2.0",
            "_model_name": "LayoutModel",
            "_view_count": null,
            "_view_module": "@jupyter-widgets/base",
            "_view_module_version": "1.2.0",
            "_view_name": "LayoutView",
            "align_content": null,
            "align_items": null,
            "align_self": null,
            "border": null,
            "bottom": null,
            "display": null,
            "flex": null,
            "flex_flow": null,
            "grid_area": null,
            "grid_auto_columns": null,
            "grid_auto_flow": null,
            "grid_auto_rows": null,
            "grid_column": null,
            "grid_gap": null,
            "grid_row": null,
            "grid_template_areas": null,
            "grid_template_columns": null,
            "grid_template_rows": null,
            "height": null,
            "justify_content": null,
            "justify_items": null,
            "left": null,
            "margin": null,
            "max_height": null,
            "max_width": null,
            "min_height": null,
            "min_width": null,
            "object_fit": null,
            "object_position": null,
            "order": null,
            "overflow": null,
            "overflow_x": null,
            "overflow_y": null,
            "padding": null,
            "right": null,
            "top": null,
            "visibility": null,
            "width": null
          }
        },
        "e430c2e5f8614f289e3a05cc274b1ea4": {
          "model_module": "@jupyter-widgets/controls",
          "model_name": "ProgressStyleModel",
          "model_module_version": "1.5.0",
          "state": {
            "_model_module": "@jupyter-widgets/controls",
            "_model_module_version": "1.5.0",
            "_model_name": "ProgressStyleModel",
            "_view_count": null,
            "_view_module": "@jupyter-widgets/base",
            "_view_module_version": "1.2.0",
            "_view_name": "StyleView",
            "bar_color": null,
            "description_width": ""
          }
        },
        "a02e6c59a6af4a8bab46485e66444ff0": {
          "model_module": "@jupyter-widgets/base",
          "model_name": "LayoutModel",
          "model_module_version": "1.2.0",
          "state": {
            "_model_module": "@jupyter-widgets/base",
            "_model_module_version": "1.2.0",
            "_model_name": "LayoutModel",
            "_view_count": null,
            "_view_module": "@jupyter-widgets/base",
            "_view_module_version": "1.2.0",
            "_view_name": "LayoutView",
            "align_content": null,
            "align_items": null,
            "align_self": null,
            "border": null,
            "bottom": null,
            "display": null,
            "flex": null,
            "flex_flow": null,
            "grid_area": null,
            "grid_auto_columns": null,
            "grid_auto_flow": null,
            "grid_auto_rows": null,
            "grid_column": null,
            "grid_gap": null,
            "grid_row": null,
            "grid_template_areas": null,
            "grid_template_columns": null,
            "grid_template_rows": null,
            "height": null,
            "justify_content": null,
            "justify_items": null,
            "left": null,
            "margin": null,
            "max_height": null,
            "max_width": null,
            "min_height": null,
            "min_width": null,
            "object_fit": null,
            "object_position": null,
            "order": null,
            "overflow": null,
            "overflow_x": null,
            "overflow_y": null,
            "padding": null,
            "right": null,
            "top": null,
            "visibility": null,
            "width": null
          }
        },
        "29c012eead6646b7bae1fcb7e10fbd35": {
          "model_module": "@jupyter-widgets/controls",
          "model_name": "DescriptionStyleModel",
          "model_module_version": "1.5.0",
          "state": {
            "_model_module": "@jupyter-widgets/controls",
            "_model_module_version": "1.5.0",
            "_model_name": "DescriptionStyleModel",
            "_view_count": null,
            "_view_module": "@jupyter-widgets/base",
            "_view_module_version": "1.2.0",
            "_view_name": "StyleView",
            "description_width": ""
          }
        },
        "f3b41593621444ca8597804189b7f6d5": {
          "model_module": "@jupyter-widgets/controls",
          "model_name": "HBoxModel",
          "model_module_version": "1.5.0",
          "state": {
            "_dom_classes": [],
            "_model_module": "@jupyter-widgets/controls",
            "_model_module_version": "1.5.0",
            "_model_name": "HBoxModel",
            "_view_count": null,
            "_view_module": "@jupyter-widgets/controls",
            "_view_module_version": "1.5.0",
            "_view_name": "HBoxView",
            "box_style": "",
            "children": [
              "IPY_MODEL_a3bbf27ec00d4c53a18d484d786c3774",
              "IPY_MODEL_5d357411619f484791c81a4288571463",
              "IPY_MODEL_cf96a5933fd2459283d0df6b53dbb476"
            ],
            "layout": "IPY_MODEL_ccdb76dca4094b06b4f694e9c1690bd4"
          }
        },
        "a3bbf27ec00d4c53a18d484d786c3774": {
          "model_module": "@jupyter-widgets/controls",
          "model_name": "HTMLModel",
          "model_module_version": "1.5.0",
          "state": {
            "_dom_classes": [],
            "_model_module": "@jupyter-widgets/controls",
            "_model_module_version": "1.5.0",
            "_model_name": "HTMLModel",
            "_view_count": null,
            "_view_module": "@jupyter-widgets/controls",
            "_view_module_version": "1.5.0",
            "_view_name": "HTMLView",
            "description": "",
            "description_tooltip": null,
            "layout": "IPY_MODEL_03df724384ac4084aca58424105a24a4",
            "placeholder": "​",
            "style": "IPY_MODEL_638a3cb25e1142e69bb9bb0300c7cb5d",
            "value": "100%"
          }
        },
        "5d357411619f484791c81a4288571463": {
          "model_module": "@jupyter-widgets/controls",
          "model_name": "FloatProgressModel",
          "model_module_version": "1.5.0",
          "state": {
            "_dom_classes": [],
            "_model_module": "@jupyter-widgets/controls",
            "_model_module_version": "1.5.0",
            "_model_name": "FloatProgressModel",
            "_view_count": null,
            "_view_module": "@jupyter-widgets/controls",
            "_view_module_version": "1.5.0",
            "_view_name": "ProgressView",
            "bar_style": "success",
            "description": "",
            "description_tooltip": null,
            "layout": "IPY_MODEL_5760623024734280964a1f0f6574727f",
            "max": 4542,
            "min": 0,
            "orientation": "horizontal",
            "style": "IPY_MODEL_548042c57eb74950b82fea21403bef2d",
            "value": 4542
          }
        },
        "cf96a5933fd2459283d0df6b53dbb476": {
          "model_module": "@jupyter-widgets/controls",
          "model_name": "HTMLModel",
          "model_module_version": "1.5.0",
          "state": {
            "_dom_classes": [],
            "_model_module": "@jupyter-widgets/controls",
            "_model_module_version": "1.5.0",
            "_model_name": "HTMLModel",
            "_view_count": null,
            "_view_module": "@jupyter-widgets/controls",
            "_view_module_version": "1.5.0",
            "_view_name": "HTMLView",
            "description": "",
            "description_tooltip": null,
            "layout": "IPY_MODEL_cd557d4da6734d33a98b01c2a78c5a04",
            "placeholder": "​",
            "style": "IPY_MODEL_1e941cc9b55a49f099c96705d8b114ce",
            "value": " 4542/4542 [00:00&lt;00:00, 91139.08it/s]"
          }
        },
        "ccdb76dca4094b06b4f694e9c1690bd4": {
          "model_module": "@jupyter-widgets/base",
          "model_name": "LayoutModel",
          "model_module_version": "1.2.0",
          "state": {
            "_model_module": "@jupyter-widgets/base",
            "_model_module_version": "1.2.0",
            "_model_name": "LayoutModel",
            "_view_count": null,
            "_view_module": "@jupyter-widgets/base",
            "_view_module_version": "1.2.0",
            "_view_name": "LayoutView",
            "align_content": null,
            "align_items": null,
            "align_self": null,
            "border": null,
            "bottom": null,
            "display": null,
            "flex": null,
            "flex_flow": null,
            "grid_area": null,
            "grid_auto_columns": null,
            "grid_auto_flow": null,
            "grid_auto_rows": null,
            "grid_column": null,
            "grid_gap": null,
            "grid_row": null,
            "grid_template_areas": null,
            "grid_template_columns": null,
            "grid_template_rows": null,
            "height": null,
            "justify_content": null,
            "justify_items": null,
            "left": null,
            "margin": null,
            "max_height": null,
            "max_width": null,
            "min_height": null,
            "min_width": null,
            "object_fit": null,
            "object_position": null,
            "order": null,
            "overflow": null,
            "overflow_x": null,
            "overflow_y": null,
            "padding": null,
            "right": null,
            "top": null,
            "visibility": null,
            "width": null
          }
        },
        "03df724384ac4084aca58424105a24a4": {
          "model_module": "@jupyter-widgets/base",
          "model_name": "LayoutModel",
          "model_module_version": "1.2.0",
          "state": {
            "_model_module": "@jupyter-widgets/base",
            "_model_module_version": "1.2.0",
            "_model_name": "LayoutModel",
            "_view_count": null,
            "_view_module": "@jupyter-widgets/base",
            "_view_module_version": "1.2.0",
            "_view_name": "LayoutView",
            "align_content": null,
            "align_items": null,
            "align_self": null,
            "border": null,
            "bottom": null,
            "display": null,
            "flex": null,
            "flex_flow": null,
            "grid_area": null,
            "grid_auto_columns": null,
            "grid_auto_flow": null,
            "grid_auto_rows": null,
            "grid_column": null,
            "grid_gap": null,
            "grid_row": null,
            "grid_template_areas": null,
            "grid_template_columns": null,
            "grid_template_rows": null,
            "height": null,
            "justify_content": null,
            "justify_items": null,
            "left": null,
            "margin": null,
            "max_height": null,
            "max_width": null,
            "min_height": null,
            "min_width": null,
            "object_fit": null,
            "object_position": null,
            "order": null,
            "overflow": null,
            "overflow_x": null,
            "overflow_y": null,
            "padding": null,
            "right": null,
            "top": null,
            "visibility": null,
            "width": null
          }
        },
        "638a3cb25e1142e69bb9bb0300c7cb5d": {
          "model_module": "@jupyter-widgets/controls",
          "model_name": "DescriptionStyleModel",
          "model_module_version": "1.5.0",
          "state": {
            "_model_module": "@jupyter-widgets/controls",
            "_model_module_version": "1.5.0",
            "_model_name": "DescriptionStyleModel",
            "_view_count": null,
            "_view_module": "@jupyter-widgets/base",
            "_view_module_version": "1.2.0",
            "_view_name": "StyleView",
            "description_width": ""
          }
        },
        "5760623024734280964a1f0f6574727f": {
          "model_module": "@jupyter-widgets/base",
          "model_name": "LayoutModel",
          "model_module_version": "1.2.0",
          "state": {
            "_model_module": "@jupyter-widgets/base",
            "_model_module_version": "1.2.0",
            "_model_name": "LayoutModel",
            "_view_count": null,
            "_view_module": "@jupyter-widgets/base",
            "_view_module_version": "1.2.0",
            "_view_name": "LayoutView",
            "align_content": null,
            "align_items": null,
            "align_self": null,
            "border": null,
            "bottom": null,
            "display": null,
            "flex": null,
            "flex_flow": null,
            "grid_area": null,
            "grid_auto_columns": null,
            "grid_auto_flow": null,
            "grid_auto_rows": null,
            "grid_column": null,
            "grid_gap": null,
            "grid_row": null,
            "grid_template_areas": null,
            "grid_template_columns": null,
            "grid_template_rows": null,
            "height": null,
            "justify_content": null,
            "justify_items": null,
            "left": null,
            "margin": null,
            "max_height": null,
            "max_width": null,
            "min_height": null,
            "min_width": null,
            "object_fit": null,
            "object_position": null,
            "order": null,
            "overflow": null,
            "overflow_x": null,
            "overflow_y": null,
            "padding": null,
            "right": null,
            "top": null,
            "visibility": null,
            "width": null
          }
        },
        "548042c57eb74950b82fea21403bef2d": {
          "model_module": "@jupyter-widgets/controls",
          "model_name": "ProgressStyleModel",
          "model_module_version": "1.5.0",
          "state": {
            "_model_module": "@jupyter-widgets/controls",
            "_model_module_version": "1.5.0",
            "_model_name": "ProgressStyleModel",
            "_view_count": null,
            "_view_module": "@jupyter-widgets/base",
            "_view_module_version": "1.2.0",
            "_view_name": "StyleView",
            "bar_color": null,
            "description_width": ""
          }
        },
        "cd557d4da6734d33a98b01c2a78c5a04": {
          "model_module": "@jupyter-widgets/base",
          "model_name": "LayoutModel",
          "model_module_version": "1.2.0",
          "state": {
            "_model_module": "@jupyter-widgets/base",
            "_model_module_version": "1.2.0",
            "_model_name": "LayoutModel",
            "_view_count": null,
            "_view_module": "@jupyter-widgets/base",
            "_view_module_version": "1.2.0",
            "_view_name": "LayoutView",
            "align_content": null,
            "align_items": null,
            "align_self": null,
            "border": null,
            "bottom": null,
            "display": null,
            "flex": null,
            "flex_flow": null,
            "grid_area": null,
            "grid_auto_columns": null,
            "grid_auto_flow": null,
            "grid_auto_rows": null,
            "grid_column": null,
            "grid_gap": null,
            "grid_row": null,
            "grid_template_areas": null,
            "grid_template_columns": null,
            "grid_template_rows": null,
            "height": null,
            "justify_content": null,
            "justify_items": null,
            "left": null,
            "margin": null,
            "max_height": null,
            "max_width": null,
            "min_height": null,
            "min_width": null,
            "object_fit": null,
            "object_position": null,
            "order": null,
            "overflow": null,
            "overflow_x": null,
            "overflow_y": null,
            "padding": null,
            "right": null,
            "top": null,
            "visibility": null,
            "width": null
          }
        },
        "1e941cc9b55a49f099c96705d8b114ce": {
          "model_module": "@jupyter-widgets/controls",
          "model_name": "DescriptionStyleModel",
          "model_module_version": "1.5.0",
          "state": {
            "_model_module": "@jupyter-widgets/controls",
            "_model_module_version": "1.5.0",
            "_model_name": "DescriptionStyleModel",
            "_view_count": null,
            "_view_module": "@jupyter-widgets/base",
            "_view_module_version": "1.2.0",
            "_view_name": "StyleView",
            "description_width": ""
          }
        }
      }
    }
  },
  "cells": [
    {
      "cell_type": "markdown",
      "metadata": {
        "id": "dWyI9dbXRoTS"
      },
      "source": [
        "\n",
        "NKE Attack\n",
        "==============================\n",
        "\n",
        "\n"
      ]
    },
    {
      "cell_type": "code",
      "metadata": {
        "id": "yTOeDD4fIbdq"
      },
      "source": [
        "%matplotlib inline"
      ],
      "execution_count": null,
      "outputs": []
    },
    {
      "cell_type": "code",
      "metadata": {
        "id": "-Fw-gSFYIbdu"
      },
      "source": [
        "from __future__ import print_function\n",
        "import torch\n",
        "import torch.nn as nn\n",
        "import torch.nn.functional as F\n",
        "import torch.optim as optim\n",
        "from torchvision import datasets, transforms\n",
        "import numpy as np\n",
        "import matplotlib.pyplot as plt\n",
        "from numpy import linalg as LA"
      ],
      "execution_count": null,
      "outputs": []
    },
    {
      "cell_type": "code",
      "metadata": {
        "id": "MXobUARXIbd4"
      },
      "source": [
        "def attack(image, epsilon, data_grad, attack_type='fgsm'):\n",
        "    opt = {'fgsm':1, 'nke':-1}\n",
        "\n",
        "    # Collect the element-wise sign of the data gradient\n",
        "    sign_data_grad = data_grad.sign()\n",
        "    # Create the perturbed image by adjusting each pixel of the input image\n",
        "    perturbed_image = image + opt[attack_type] * epsilon*sign_data_grad\n",
        "    # Adding clipping to maintain [0,1] range\n",
        "    perturbed_image = torch.clamp(perturbed_image, 0, 1)\n",
        "    # Return the perturbed image\n",
        "    return perturbed_image"
      ],
      "execution_count": null,
      "outputs": []
    },
    {
      "cell_type": "code",
      "source": [
        "def testAttack( model, device, test_loader, epsilon,num_steps=1, attack_type='fgsm'):\n",
        "\n",
        "    # Accuracy counter\n",
        "    correct = 0\n",
        "    total = 0\n",
        "    adv_examples = []\n",
        "\n",
        "    L_inf = []\n",
        "    L_2 = []\n",
        "\n",
        "    # Loop over all examples in test set\n",
        "    for data, target in test_loader:\n",
        "\n",
        "        # Send the data and label to the device\n",
        "        data, target = data.to(device), target.to(device)\n",
        "\n",
        "        # Set requires_grad attribute of tensor. Important for Attack\n",
        "        data.requires_grad = True\n",
        "\n",
        "        # Forward pass the data through the model\n",
        "        output = model(data)\n",
        "        init_pred = output.max(1, keepdim=True)[1] # get the index of the max log-probability\n",
        "\n",
        "        # If the initial prediction is wrong, dont bother attacking, just move on\n",
        "        if init_pred.item() != target.item():\n",
        "            continue\n",
        "\n",
        "        total += 1\n",
        "\n",
        "        num_steps = 1\n",
        "        for i in range(num_steps):\n",
        "          loss = F.cross_entropy(output, target)        \n",
        "          loss.backward()\n",
        "          data_grad = data.grad.data\n",
        "          perturbed_data = attack(data, epsilon, data_grad, attack_type)\n",
        "          data.data = perturbed_data\n",
        "          model.zero_grad()\n",
        "          output = model(data)\n",
        "\n",
        "          # compute L_inf distance\n",
        "        a = np.abs((perturbed_data.detach().cpu()[0,0] - data.detach().cpu()[0,0]).flatten())  \n",
        "        tmp = LA.norm(a, np.inf)\n",
        "        tmp2 = LA.norm(a)\n",
        "        L_inf.append(tmp)\n",
        "        # L_0.append(tmp0)\n",
        "        L_2.append(tmp2)\n",
        "\n",
        "        # Re-classify the perturbed image\n",
        "        output = model(perturbed_data)\n",
        "\n",
        "        # Check for success\n",
        "        final_pred = output.max(1, keepdim=True)[1] # get the index of the max log-probability\n",
        "        if final_pred.item() == target.item():\n",
        "            correct += 1\n",
        "            if len(adv_examples) < 5:\n",
        "                adv_ex = perturbed_data.squeeze().detach().cpu().numpy()\n",
        "                adv_examples.append( (init_pred.item(), final_pred.item(), adv_ex) )\n",
        "\n",
        "    # Calculate final accuracy for this epsilon\n",
        "    final_acc = correct/total #float(len(test_loader))\n",
        "    print(\"Epsilon: {}\\tTest Accuracy = {} / {} = {}\".format(epsilon, correct, total, final_acc))\n",
        "\n",
        "    # Return the accuracy and an adversarial example\n",
        "    return final_acc, adv_examples, L_inf, L_2"
      ],
      "metadata": {
        "id": "A5vri7NXGz8q"
      },
      "execution_count": null,
      "outputs": []
    },
    {
      "cell_type": "code",
      "metadata": {
        "id": "-qBAcHmlZJdJ",
        "colab": {
          "base_uri": "https://localhost:8080/"
        },
        "outputId": "f9d51b8c-3c7d-413d-d4f8-619c51fb97f5"
      },
      "source": [
        "from google.colab import drive\n",
        "drive.mount('/gdrive')\n"
      ],
      "execution_count": null,
      "outputs": [
        {
          "output_type": "stream",
          "name": "stdout",
          "text": [
            "Mounted at /gdrive\n"
          ]
        }
      ]
    },
    {
      "cell_type": "code",
      "metadata": {
        "id": "tIlnm-1q4VrA",
        "colab": {
          "base_uri": "https://localhost:8080/",
          "height": 431,
          "referenced_widgets": [
            "c9dabdf5ebcb4a838f1b0b0017055c76",
            "6ff9c9d5d644461ba6f84e6bc664c135",
            "dda87fe520974bc1bea1174580d76a16",
            "41212acc5c4f47e1a25148924e23fb1c",
            "439446e4cf614ac2b512b4fadd32710a",
            "ed92eb90ed0b4474b98c41ddec23c0c5",
            "d4876b1e1d3e407c99b1d4ca519f5bf8",
            "c6f3c71c7c794854b7c56f3506edcd0e",
            "c0b7553ef2b94006aa5dad36d5f8ba8e",
            "823c8adac0c14d4f804e65215334860e",
            "50544fa042fa41f2ac8325c24d7e15aa",
            "b39148e7b98f4ebb8f560ed391705493",
            "d29ca47b43bc4d5097ba0fa3d956a6c4",
            "e7d2ca99be734137b43797c86867c1a7",
            "1993ec102e1b49f18424f205e87cc20b",
            "e9fc20d7e968489686f23258786e812e",
            "a3d9c3abe593453aa572fd6f1dd49179",
            "52c65c761b3a4a62a8b863a9fbb5e24a",
            "cec6581a60c04ebbb3d00fbede694885",
            "52493904e5424d3d939fb07f5b9add15",
            "741a95806f244286a95c88f9e1dae406",
            "679707f1aa6c4d4097c3af638a15e22e",
            "22bbb23884544dbcaf0efd635686656f",
            "0b766033348f4fe68078cf22b74803ab",
            "5ebc2310ea414439862e9ae2764f5714",
            "d2d7ced8f810404b901932cecc93d9d9",
            "1da4ff1873594e82aff3fd6109aa2d9f",
            "ce7389ad0f9c48b9a2c126d81b21ae61",
            "b051220aed3f40e1a7f07e001dd04c50",
            "047b41c2f29147bfb8f77181ef4b7530",
            "e430c2e5f8614f289e3a05cc274b1ea4",
            "a02e6c59a6af4a8bab46485e66444ff0",
            "29c012eead6646b7bae1fcb7e10fbd35",
            "f3b41593621444ca8597804189b7f6d5",
            "a3bbf27ec00d4c53a18d484d786c3774",
            "5d357411619f484791c81a4288571463",
            "cf96a5933fd2459283d0df6b53dbb476",
            "ccdb76dca4094b06b4f694e9c1690bd4",
            "03df724384ac4084aca58424105a24a4",
            "638a3cb25e1142e69bb9bb0300c7cb5d",
            "5760623024734280964a1f0f6574727f",
            "548042c57eb74950b82fea21403bef2d",
            "cd557d4da6734d33a98b01c2a78c5a04",
            "1e941cc9b55a49f099c96705d8b114ce"
          ]
        },
        "outputId": "15cbeeea-e444-4a11-c50f-44d1dd0e0ae4"
      },
      "source": [
        "train_loader = torch.utils.data.DataLoader(\n",
        "    datasets.MNIST('../data', train=True, download=True, transform=transforms.Compose([\n",
        "            transforms.ToTensor(),\n",
        "            ])), \n",
        "        batch_size=100, shuffle=True)\n",
        "\n",
        "# # MNIST Test dataset and dataloader declaration\n",
        "test_loader = torch.utils.data.DataLoader(\n",
        "    datasets.MNIST('../data', train=False, download=True, transform=transforms.Compose([\n",
        "            transforms.ToTensor(),\n",
        "            ])), \n",
        "        batch_size=100, shuffle=True)"
      ],
      "execution_count": null,
      "outputs": [
        {
          "output_type": "stream",
          "name": "stdout",
          "text": [
            "Downloading http://yann.lecun.com/exdb/mnist/train-images-idx3-ubyte.gz\n",
            "Downloading http://yann.lecun.com/exdb/mnist/train-images-idx3-ubyte.gz to ../data/MNIST/raw/train-images-idx3-ubyte.gz\n"
          ]
        },
        {
          "output_type": "display_data",
          "data": {
            "text/plain": [
              "  0%|          | 0/9912422 [00:00<?, ?it/s]"
            ],
            "application/vnd.jupyter.widget-view+json": {
              "version_major": 2,
              "version_minor": 0,
              "model_id": "c9dabdf5ebcb4a838f1b0b0017055c76"
            }
          },
          "metadata": {}
        },
        {
          "output_type": "stream",
          "name": "stdout",
          "text": [
            "Extracting ../data/MNIST/raw/train-images-idx3-ubyte.gz to ../data/MNIST/raw\n",
            "\n",
            "Downloading http://yann.lecun.com/exdb/mnist/train-labels-idx1-ubyte.gz\n",
            "Downloading http://yann.lecun.com/exdb/mnist/train-labels-idx1-ubyte.gz to ../data/MNIST/raw/train-labels-idx1-ubyte.gz\n"
          ]
        },
        {
          "output_type": "display_data",
          "data": {
            "text/plain": [
              "  0%|          | 0/28881 [00:00<?, ?it/s]"
            ],
            "application/vnd.jupyter.widget-view+json": {
              "version_major": 2,
              "version_minor": 0,
              "model_id": "b39148e7b98f4ebb8f560ed391705493"
            }
          },
          "metadata": {}
        },
        {
          "output_type": "stream",
          "name": "stdout",
          "text": [
            "Extracting ../data/MNIST/raw/train-labels-idx1-ubyte.gz to ../data/MNIST/raw\n",
            "\n",
            "Downloading http://yann.lecun.com/exdb/mnist/t10k-images-idx3-ubyte.gz\n",
            "Downloading http://yann.lecun.com/exdb/mnist/t10k-images-idx3-ubyte.gz to ../data/MNIST/raw/t10k-images-idx3-ubyte.gz\n"
          ]
        },
        {
          "output_type": "display_data",
          "data": {
            "text/plain": [
              "  0%|          | 0/1648877 [00:00<?, ?it/s]"
            ],
            "application/vnd.jupyter.widget-view+json": {
              "version_major": 2,
              "version_minor": 0,
              "model_id": "22bbb23884544dbcaf0efd635686656f"
            }
          },
          "metadata": {}
        },
        {
          "output_type": "stream",
          "name": "stdout",
          "text": [
            "Extracting ../data/MNIST/raw/t10k-images-idx3-ubyte.gz to ../data/MNIST/raw\n",
            "\n",
            "Downloading http://yann.lecun.com/exdb/mnist/t10k-labels-idx1-ubyte.gz\n",
            "Downloading http://yann.lecun.com/exdb/mnist/t10k-labels-idx1-ubyte.gz to ../data/MNIST/raw/t10k-labels-idx1-ubyte.gz\n"
          ]
        },
        {
          "output_type": "display_data",
          "data": {
            "text/plain": [
              "  0%|          | 0/4542 [00:00<?, ?it/s]"
            ],
            "application/vnd.jupyter.widget-view+json": {
              "version_major": 2,
              "version_minor": 0,
              "model_id": "f3b41593621444ca8597804189b7f6d5"
            }
          },
          "metadata": {}
        },
        {
          "output_type": "stream",
          "name": "stdout",
          "text": [
            "Extracting ../data/MNIST/raw/t10k-labels-idx1-ubyte.gz to ../data/MNIST/raw\n",
            "\n"
          ]
        }
      ]
    },
    {
      "cell_type": "code",
      "metadata": {
        "id": "iI7soiDFRoTk"
      },
      "source": [
        "# LeNet Model definition\n",
        "class Net(nn.Module):\n",
        "    def __init__(self):\n",
        "        super(Net, self).__init__()\n",
        "        self.conv0 = nn.Conv2d(1, 10, kernel_size=1)\n",
        "        self.conv1 = nn.Conv2d(10, 10, kernel_size=5)\n",
        "        self.conv2 = nn.Conv2d(10, 20, kernel_size=5)\n",
        "        self.conv2_drop = nn.Dropout2d()\n",
        "        self.fc1 = nn.Linear(320, 50)\n",
        "        self.fc2 = nn.Linear(50, 10)\n",
        "\n",
        "    def forward(self, x):\n",
        "        x0 = F.relu(self.conv0(x))\n",
        "        x = F.relu(F.max_pool2d(self.conv1(x0), 2))\n",
        "        x = F.relu(F.max_pool2d(self.conv2_drop(self.conv2(x)), 2))\n",
        "        x = x.view(-1, 320)\n",
        "        x = F.relu(self.fc1(x))\n",
        "        x = F.dropout(x, training=self.training)\n",
        "        x = self.fc2(x)\n",
        "        return x #F.log_softmax(x, dim=1), x0\n",
        "    \n",
        "# # Define what device we are using\n",
        "# print(\"CUDA Available: \",torch.cuda.is_available())\n",
        "device = torch.device(\"cuda\" if (use_cuda and torch.cuda.is_available()) else \"cpu\")\n",
        "    "
      ],
      "execution_count": null,
      "outputs": []
    },
    {
      "cell_type": "code",
      "metadata": {
        "id": "sBzTjN0W4Tf5",
        "colab": {
          "base_uri": "https://localhost:8080/"
        },
        "outputId": "8d5c00d8-12c1-4bf4-9e16-c63131fb28bb"
      },
      "source": [
        "ls /gdrive/MyDrive/ClassificationImages/models"
      ],
      "execution_count": null,
      "outputs": [
        {
          "output_type": "stream",
          "name": "stdout",
          "text": [
            "cifar_net.pth  lenet_mnist_model.pth  mnist_cnn.pth\n"
          ]
        }
      ]
    },
    {
      "cell_type": "code",
      "metadata": {
        "id": "dwmz3TrA2dZ2",
        "outputId": "334ca2f0-0be6-413e-b2fb-faed5a959e9b",
        "colab": {
          "base_uri": "https://localhost:8080/"
        }
      },
      "source": [
        "from torchsummary import summary\n",
        "\n",
        "\n",
        "model = Net().to(device)  # training with slope 1 for now\n",
        "# model.load_state_dict(torch.load(pretrained_model, map_location='cpu'))\n",
        "device = torch.device('cuda' if torch.cuda.is_available() else 'cpu')\n",
        "summary(model, (1, 28, 28))\n"
      ],
      "execution_count": null,
      "outputs": [
        {
          "output_type": "stream",
          "name": "stdout",
          "text": [
            "----------------------------------------------------------------\n",
            "        Layer (type)               Output Shape         Param #\n",
            "================================================================\n",
            "            Conv2d-1           [-1, 10, 28, 28]              20\n",
            "            Conv2d-2           [-1, 10, 24, 24]           2,510\n",
            "            Conv2d-3             [-1, 20, 8, 8]           5,020\n",
            "         Dropout2d-4             [-1, 20, 8, 8]               0\n",
            "            Linear-5                   [-1, 50]          16,050\n",
            "            Linear-6                   [-1, 10]             510\n",
            "================================================================\n",
            "Total params: 24,110\n",
            "Trainable params: 24,110\n",
            "Non-trainable params: 0\n",
            "----------------------------------------------------------------\n",
            "Input size (MB): 0.00\n",
            "Forward/backward pass size (MB): 0.12\n",
            "Params size (MB): 0.09\n",
            "Estimated Total Size (MB): 0.22\n",
            "----------------------------------------------------------------\n"
          ]
        }
      ]
    },
    {
      "cell_type": "markdown",
      "source": [
        "### Train a model if you dont have one"
      ],
      "metadata": {
        "id": "ACdAuPUpYMwv"
      }
    },
    {
      "cell_type": "code",
      "metadata": {
        "id": "x1iOE9bfRoTv",
        "outputId": "48192f7f-bebc-425e-b0b9-bee8de974ed3",
        "colab": {
          "base_uri": "https://localhost:8080/"
        }
      },
      "source": [
        "EPOCHS = 10\n",
        "losses = []\n",
        "\n",
        "coeff = 10e-3\n",
        "\n",
        "# del optimizer\n",
        "optimizer = optim.Adadelta(model.parameters(), lr=(1e-2))\n",
        "\n",
        "\n",
        "model.train()\n",
        "for epoch in range(EPOCHS):\n",
        "    for batch_idx, (data, target) in enumerate(train_loader):\n",
        "        \n",
        "        data, target = data.to(device), target.to(device)        \n",
        "        # Init\n",
        "        optimizer.zero_grad()\n",
        "\n",
        "        # Predict\n",
        "        y_pred = model(data) \n",
        "        # import pdb; pdb.set_trace()\n",
        "        # L0_reg = torch.norm(x0,0)/x0.numel() # fraction of non zero elements\n",
        "                                   \n",
        "        # Calculate loss\n",
        "        \n",
        "        loss = F.cross_entropy(y_pred, target)\n",
        "        # loss = (1-coeff) * F.nll_loss(y_pred, target) + coeff * L0_reg       \n",
        "        losses.append(loss.cpu().data)\n",
        "#         losses.append(loss.cpu().data[0])        \n",
        "        # Backpropagation\n",
        "        loss.backward()\n",
        "        optimizer.step()\n",
        "        \n",
        "        \n",
        "        # Display\n",
        "        if batch_idx % 100 == 1:\n",
        "            print('\\r Train Epoch: {}/{} [{}/{} ({:.0f}%)]\\tLoss: {:.6f}'.format(\n",
        "                epoch+1,\n",
        "                EPOCHS,\n",
        "                batch_idx * len(data), \n",
        "                len(train_loader.dataset),\n",
        "                100. * batch_idx / len(train_loader), \n",
        "                loss.cpu().data), \n",
        "                end='')\n",
        "    # Eval\n",
        "    evaluate_x = test_loader.dataset.data.type_as(torch.FloatTensor())\n",
        "    evaluate_y = test_loader.dataset.targets\n",
        "\n",
        "    evaluate_x, evaluate_y = evaluate_x.to(device), evaluate_y.to(device)        \n",
        "\n",
        "\n",
        "    model.eval()\n",
        "    output = model(evaluate_x[:,None,...])\n",
        "    pred = output.data.max(1)[1]\n",
        "    d = pred.eq(evaluate_y.data).cpu()\n",
        "    accuracy = d.sum().type(dtype=torch.float64)/d.size()[0]\n",
        "    \n",
        "    print('\\r Train Epoch: {}/{} [{}/{} ({:.0f}%)]\\tLoss: {:.6f}\\t Test Accuracy: {:.4f}%'.format(\n",
        "        epoch+1,\n",
        "        EPOCHS,\n",
        "        len(train_loader.dataset), \n",
        "        len(train_loader.dataset),\n",
        "        100. * batch_idx / len(train_loader), \n",
        "        loss.cpu().data,\n",
        "        accuracy*100,\n",
        "        end=''))\n",
        "    \n",
        "\n",
        "    "
      ],
      "execution_count": null,
      "outputs": [
        {
          "output_type": "stream",
          "name": "stdout",
          "text": [
            " Train Epoch: 1/10 [60000/60000 (100%)]\tLoss: 1.319278\t Test Accuracy: 87.2500%\n",
            " Train Epoch: 2/10 [60000/60000 (100%)]\tLoss: 0.256012\t Test Accuracy: 91.2600%\n",
            " Train Epoch: 3/10 [60000/60000 (100%)]\tLoss: 0.210109\t Test Accuracy: 92.5100%\n",
            " Train Epoch: 4/10 [60000/60000 (100%)]\tLoss: 0.285029\t Test Accuracy: 92.7500%\n",
            " Train Epoch: 5/10 [60000/60000 (100%)]\tLoss: 0.192327\t Test Accuracy: 93.6000%\n",
            " Train Epoch: 6/10 [60000/60000 (100%)]\tLoss: 0.135772\t Test Accuracy: 94.0800%\n",
            " Train Epoch: 7/10 [60000/60000 (100%)]\tLoss: 0.135612\t Test Accuracy: 94.3500%\n",
            " Train Epoch: 8/10 [60000/60000 (100%)]\tLoss: 0.049690\t Test Accuracy: 94.9100%\n",
            " Train Epoch: 9/10 [60000/60000 (100%)]\tLoss: 0.163464\t Test Accuracy: 95.0500%\n",
            " Train Epoch: 10/10 [60000/60000 (100%)]\tLoss: 0.150458\t Test Accuracy: 95.3500%\n"
          ]
        }
      ]
    },
    {
      "cell_type": "code",
      "source": [
        "# !ls /gdrive/MyDrive/ClassificationImages/NewTypeExamples\n",
        "pathh = '/gdrive/MyDrive/ClassificationImages/NewTypeExamples' "
      ],
      "metadata": {
        "id": "lyS0QGLNTmpv"
      },
      "execution_count": null,
      "outputs": []
    },
    {
      "cell_type": "code",
      "metadata": {
        "id": "Y1QQN9tT4hNR"
      },
      "source": [
        "torch.save(model.state_dict(), pathh+'\\model.pth')"
      ],
      "execution_count": null,
      "outputs": []
    },
    {
      "cell_type": "code",
      "metadata": {
        "id": "4659L91ARoTy",
        "outputId": "978ebad2-c43a-4865-f077-e4b96d0c6b93",
        "colab": {
          "base_uri": "https://localhost:8080/"
        }
      },
      "source": [
        "evaluate_x = test_loader.dataset.data.type_as(torch.FloatTensor())\n",
        "evaluate_y = test_loader.dataset.targets.type_as(torch.FloatTensor())\n",
        "\n",
        "evaluate_x, evaluate_y = evaluate_x.to(device), evaluate_y.to(device)        \n",
        "\n",
        "model.eval()\n",
        "output = model(evaluate_x[:,None,...])\n",
        "pred = output.data.max(1)[1]\n",
        "d = pred.eq(evaluate_y.data).cpu()\n",
        "accuracy = d.sum().type(dtype=torch.float64)/d.size()[0]\n",
        "\n",
        "print('Accuracy:', accuracy*100)"
      ],
      "execution_count": null,
      "outputs": [
        {
          "output_type": "stream",
          "name": "stdout",
          "text": [
            "Accuracy: tensor(90.7300, dtype=torch.float64)\n"
          ]
        }
      ]
    },
    {
      "cell_type": "markdown",
      "metadata": {
        "id": "8vKYl4O6RoT0"
      },
      "source": [
        "# Now perform adversarial attack"
      ]
    },
    {
      "cell_type": "code",
      "metadata": {
        "id": "iFXLuEzmRoT1",
        "outputId": "9cc7f9d1-9dc0-4dee-d0eb-f9487684dbd9",
        "colab": {
          "base_uri": "https://localhost:8080/"
        }
      },
      "source": [
        "# # MNIST Test dataset and dataloader declaration\n",
        "test_loader_new = torch.utils.data.DataLoader(\n",
        "    datasets.MNIST('../data', train=False, download=True, transform=transforms.Compose([\n",
        "            transforms.ToTensor(),\n",
        "            ])), \n",
        "        batch_size=1, shuffle=False)\n",
        "\n",
        "epsilons = [0, .01, .04, .07, .1, .4, .5, .6] #, .9, .93, .96, .99, 1]\n",
        "model.eval()\n",
        "\n",
        "# Run test for each epsilon\n",
        "accuracies = []\n",
        "examples = []\n",
        "infs = []\n",
        "L2s = []\n",
        "\n",
        "\n",
        "for eps in epsilons:\n",
        "    acc, ex, m_L_inf, m_L_2 = testAttack(model, device, test_loader_new, eps, num_steps=2, attack_type='fgsm')\n",
        "    accuracies.append(acc)\n",
        "    examples.append(ex)\n",
        "    infs.append(np.mean(m_L_inf)/256)\n",
        "    L2s.append(np.mean(m_L_2)/256)\n",
        "    # print(f'{eps}, {infs[-1]}, {L2s[-1]}: {acc}')\n",
        "\n"
      ],
      "execution_count": null,
      "outputs": [
        {
          "output_type": "stream",
          "name": "stdout",
          "text": [
            "Epsilon: 0\tTest Accuracy = 9585 / 9585 = 1.0\n",
            "Epsilon: 0.01\tTest Accuracy = 9293 / 9585 = 0.9695357329160146\n",
            "Epsilon: 0.04\tTest Accuracy = 7257 / 9585 = 0.7571205007824726\n",
            "Epsilon: 0.07\tTest Accuracy = 3123 / 9585 = 0.32582159624413143\n",
            "Epsilon: 0.1\tTest Accuracy = 797 / 9585 = 0.08315075639019301\n",
            "Epsilon: 0.4\tTest Accuracy = 0 / 9585 = 0.0\n",
            "Epsilon: 0.5\tTest Accuracy = 0 / 9585 = 0.0\n",
            "Epsilon: 0.6\tTest Accuracy = 0 / 9585 = 0.0\n"
          ]
        }
      ]
    },
    {
      "cell_type": "markdown",
      "source": [
        "#plots"
      ],
      "metadata": {
        "id": "CJxm_7pA9tNa"
      }
    },
    {
      "cell_type": "code",
      "metadata": {
        "id": "0kqYpB3NRoT6",
        "outputId": "34db6b27-c778-4c22-b9f0-11e52c0700f8",
        "colab": {
          "base_uri": "https://localhost:8080/",
          "height": 529
        }
      },
      "source": [
        "# Plot several examples of adversarial samples at each epsilon\n",
        "\n",
        "epsilons = epsilons[:7]\n",
        "\n",
        "cnt = 0\n",
        "# plt.figure(figsize=(8,20))\n",
        "plt.figure(figsize=(8,10))\n",
        "# for i in range(len(epsilons)):\n",
        "for i in range(len(epsilons)):\n",
        "    for j in range(len(examples[i])):\n",
        "        cnt += 1\n",
        "        plt.subplot(len(epsilons),len(examples[0]),cnt)\n",
        "        plt.xticks([], [])\n",
        "        plt.yticks([], [])\n",
        "        if j == 0:\n",
        "            plt.ylabel(\"Eps: {}\".format(epsilons[i]), fontsize=14)\n",
        "        orig,adv,ex = examples[i][j]\n",
        "        plt.title(\"{} -> {}\".format(orig, adv))\n",
        "        plt.imshow(ex, cmap=\"gray\")\n",
        "plt.tight_layout()\n",
        "plt.show()"
      ],
      "execution_count": null,
      "outputs": [
        {
          "output_type": "display_data",
          "data": {
            "text/plain": [
              "<Figure size 576x720 with 25 Axes>"
            ],
            "image/png": "[encoded data removed]"
          },
          "metadata": {}
        }
      ]
    },
    {
      "cell_type": "code",
      "source": [
        "def parse_data(res):\n",
        "  indexes = [x.start() for x in re.finditer(' = ', res)]\n",
        "\n",
        "  RES = []\n",
        "  for i in indexes[1::2]:\n",
        "    if res[i+3:i+6] in ['0.0', '1.0']:\n",
        "      RES.append(float(res[i+2:i+7]))\n",
        "    else:\n",
        "      RES.append(float(res[i+2:i+8]))\n",
        "\n",
        "  return RES\n"
      ],
      "metadata": {
        "id": "9iC_8h9GegzO"
      },
      "execution_count": null,
      "outputs": []
    },
    {
      "cell_type": "code",
      "metadata": {
        "id": "I-fX6qq_RoT8",
        "outputId": "036d9849-8f8d-471d-8bd3-b532cee3e107",
        "colab": {
          "base_uri": "https://localhost:8080/",
          "height": 366
        }
      },
      "source": [
        "import re\n",
        "\n",
        "fgsm_res1 = \"\"\"Epsilon: 0\tTest Accuracy = 9585 / 9585 = 1.0\n",
        "Epsilon: 0.01\tTest Accuracy = 9451 / 9585 = 0.9860198226395409\n",
        "Epsilon: 0.04\tTest Accuracy = 8912 / 9585 = 0.9297861241523213\n",
        "Epsilon: 0.07\tTest Accuracy = 7884 / 9585 = 0.8225352112676056\n",
        "Epsilon: 0.1\tTest Accuracy = 6180 / 9585 = 0.6447574334898278\n",
        "Epsilon: 0.4\tTest Accuracy = 1 / 9585 = 0.00010432968179447053\n",
        "Epsilon: 0.5\tTest Accuracy = 0 / 9585 = 0.0\"\"\"\n",
        "\n",
        "fgsm_res2 = \"\"\"Epsilon: 0\tTest Accuracy = 9585 / 9585 = 1.0\n",
        "Epsilon: 0.01\tTest Accuracy = 9293 / 9585 = 0.9695357329160146\n",
        "Epsilon: 0.04\tTest Accuracy = 7257 / 9585 = 0.7571205007824726\n",
        "Epsilon: 0.07\tTest Accuracy = 3123 / 9585 = 0.32582159624413143\n",
        "Epsilon: 0.1\tTest Accuracy = 797 / 9585 = 0.08315075639019301\n",
        "Epsilon: 0.4\tTest Accuracy = 0 / 9585 = 0.0\n",
        "Epsilon: 0.5\tTest Accuracy = 0 / 9585 = 0.0\"\"\"\n",
        "\n",
        "\n",
        "\n",
        "net_res1 = \"\"\"Epsilon: 0\tTest Accuracy = 9585 / 9585 = 1.0\n",
        "Epsilon: 0.01\tTest Accuracy = 9585 / 9585 = 1.0\n",
        "Epsilon: 0.04\tTest Accuracy = 9585 / 9585 = 1.0\n",
        "Epsilon: 0.07\tTest Accuracy = 9585 / 9585 = 1.0\n",
        "Epsilon: 0.1\tTest Accuracy = 9585 / 9585 = 1.0\n",
        "Epsilon: 0.4\tTest Accuracy = 9258 / 9585 = 0.9658841940532081\n",
        "Epsilon: 0.5\tTest Accuracy = 8734 / 9585 = 0.9112154407929056\n",
        "Epsilon: 0.6\tTest Accuracy = 8268 / 9585 = 0.8625978090766823\n",
        "Epsilon: 0.9\tTest Accuracy = 7178 / 9585 = 0.7488784559207095\n",
        "Epsilon: 0.93\tTest Accuracy = 7103 / 9585 = 0.7410537297861242\n",
        "Epsilon: 0.96\tTest Accuracy = 7017 / 9585 = 0.7320813771517997\n",
        "Epsilon: 0.99\tTest Accuracy = 6922 / 9585 = 0.722170057381325\n",
        "Epsilon: 1\tTest Accuracy = 6899 / 9585 = 0.7197704747000522\"\"\"\n",
        "\n",
        "\n",
        "net_res2 = \"\"\"Epsilon: 0\tTest Accuracy = 9585 / 9585 = 1.0\n",
        "Epsilon: 0.01\tTest Accuracy = 9585 / 9585 = 1.0\n",
        "Epsilon: 0.04\tTest Accuracy = 9585 / 9585 = 1.0\n",
        "Epsilon: 0.07\tTest Accuracy = 9585 / 9585 = 1.0\n",
        "Epsilon: 0.1\tTest Accuracy = 9585 / 9585 = 1.0\n",
        "Epsilon: 0.4\tTest Accuracy = 9543 / 9585 = 0.9956181533646322\n",
        "Epsilon: 0.5\tTest Accuracy = 9520 / 9585 = 0.9932185706833594\n",
        "Epsilon: 0.6\tTest Accuracy = 9453 / 9585 = 0.9862284820031298\n",
        "Epsilon: 0.9\tTest Accuracy = 8805 / 9585 = 0.918622848200313\n",
        "Epsilon: 0.93\tTest Accuracy = 8740 / 9585 = 0.9118414188836724\n",
        "Epsilon: 0.96\tTest Accuracy = 8642 / 9585 = 0.9016171100678143\n",
        "Epsilon: 0.99\tTest Accuracy = 8559 / 9585 = 0.8929577464788733\n",
        "Epsilon: 1\tTest Accuracy = 8500 / 9585 = 0.8868022952529995\"\"\"\n",
        "\n",
        "\n",
        "net_res3 = \"\"\"Epsilon: 0\tTest Accuracy = 9585 / 9585 = 1.0\n",
        "Epsilon: 0.01\tTest Accuracy = 9585 / 9585 = 1.0\n",
        "Epsilon: 0.04\tTest Accuracy = 9585 / 9585 = 1.0\n",
        "Epsilon: 0.07\tTest Accuracy = 9585 / 9585 = 1.0\n",
        "Epsilon: 0.1\tTest Accuracy = 9585 / 9585 = 1.0\n",
        "Epsilon: 0.4\tTest Accuracy = 9564 / 9585 = 0.9978090766823161\n",
        "Epsilon: 0.5\tTest Accuracy = 9502 / 9585 = 0.991340636411059\n",
        "Epsilon: 0.6\tTest Accuracy = 9557 / 9585 = 0.9970787689097548\n",
        "Epsilon: 0.9\tTest Accuracy = 9432 / 9585 = 0.984037558685446\n",
        "Epsilon: 0.93\tTest Accuracy = 9406 / 9585 = 0.9813249869587898\n",
        "Epsilon: 0.96\tTest Accuracy = 9370 / 9585 = 0.9775691184141888\n",
        "Epsilon: 0.99\tTest Accuracy = 9348 / 9585 = 0.9752738654147105\n",
        "Epsilon: 1\tTest Accuracy = 9330 / 9585 = 0.97339593114241\"\"\"\n",
        "\n",
        "net_res4 = \"\"\"Epsilon: 0\tTest Accuracy = 9585 / 9585 = 1.0\n",
        "Epsilon: 0.01\tTest Accuracy = 9585 / 9585 = 1.0\n",
        "Epsilon: 0.04\tTest Accuracy = 9585 / 9585 = 1.0\n",
        "Epsilon: 0.07\tTest Accuracy = 9585 / 9585 = 1.0\n",
        "Epsilon: 0.1\tTest Accuracy = 9585 / 9585 = 1.0\n",
        "Epsilon: 0.4\tTest Accuracy = 9583 / 9585 = 0.9997913406364111\n",
        "Epsilon: 0.5\tTest Accuracy = 9544 / 9585 = 0.9957224830464267\n",
        "Epsilon: 0.6\tTest Accuracy = 9568 / 9585 = 0.998226395409494\n",
        "Epsilon: 0.9\tTest Accuracy = 9581 / 9585 = 0.9995826812728221\n",
        "Epsilon: 0.93\tTest Accuracy = 9579 / 9585 = 0.9993740219092332\n",
        "Epsilon: 0.96\tTest Accuracy = 9579 / 9585 = 0.9993740219092332\n",
        "Epsilon: 0.99\tTest Accuracy = 9575 / 9585 = 0.9989567031820553\n",
        "Epsilon: 1\tTest Accuracy = 9574 / 9585 = 0.9988523735002608\"\"\"\n",
        "\n",
        "# step 5\n",
        "net_res5 = \"\"\"Epsilon: 0\tTest Accuracy = 9585 / 9585 = 1.0\n",
        "Epsilon: 0.01\tTest Accuracy = 9585 / 9585 = 1.0\n",
        "Epsilon: 0.04\tTest Accuracy = 9585 / 9585 = 1.0\n",
        "Epsilon: 0.07\tTest Accuracy = 9585 / 9585 = 1.0\n",
        "Epsilon: 0.1\tTest Accuracy = 9585 / 9585 = 1.0\n",
        "Epsilon: 0.4\tTest Accuracy = 9581 / 9585 = 0.9995826812728221\n",
        "Epsilon: 0.5\tTest Accuracy = 9562 / 9585 = 0.9976004173187272\n",
        "Epsilon: 0.6\tTest Accuracy = 9584 / 9585 = 0.9998956703182055\n",
        "Epsilon: 0.9\tTest Accuracy = 9585 / 9585 = 1.0\n",
        "Epsilon: 0.93\tTest Accuracy = 9584 / 9585 = 0.9998956703182055\n",
        "Epsilon: 0.96\tTest Accuracy = 9584 / 9585 = 0.9998956703182055\n",
        "Epsilon: 0.99\tTest Accuracy = 9584 / 9585 = 0.9998956703182055\n",
        "Epsilon: 1\tTest Accuracy = 9585 / 9585 = 1.0\"\"\"\n",
        "\n",
        "\n",
        "\n",
        "\n",
        "gauss_res = \"\"\"Epsilon: 0.0\tTest Accuracy = 9797 / 9797 = 1.0\n",
        "Epsilon: 6.416666666666667\tTest Accuracy = 9791 / 9797 = 0.9993875676227416\n",
        "Epsilon: 12.833333333333334\tTest Accuracy = 9786 / 9797 = 0.9988772073083597\n",
        "Epsilon: 19.25\tTest Accuracy = 9776 / 9797 = 0.9978564866795958\n",
        "Epsilon: 25.666666666666668\tTest Accuracy = 9774 / 9797 = 0.997652342553843\n",
        "Epsilon: 32.083333333333336\tTest Accuracy = 9761 / 9797 = 0.9963254057364499\n",
        "Epsilon: 38.5\tTest Accuracy = 9745 / 9797 = 0.9946922527304277\n",
        "Epsilon: 44.91666666666667\tTest Accuracy = 9718 / 9797 = 0.9919363070327651\n",
        "Epsilon: 51.333333333333336\tTest Accuracy = 9715 / 9797 = 0.991630090844136\n",
        "Epsilon: 57.75\tTest Accuracy = 9692 / 9797 = 0.9892824333979789\n",
        "Epsilon: 64.16666666666667\tTest Accuracy = 9679 / 9797 = 0.9879554965805859\n",
        "Epsilon: 70.58333333333334\tTest Accuracy = 9642 / 9797 = 0.9841788302541594\n",
        "Epsilon: 77.0\tTest Accuracy = 9619 / 9797 = 0.9818311728080025\n",
        "Epsilon: 100\tTest Accuracy = 9450 / 9797 = 0.9645809941818925\n",
        "Epsilon: 200\tTest Accuracy = 7646 / 9797 = 0.7804429927528835\n",
        "Epsilon: 500\tTest Accuracy = 2892 / 9797 = 0.295192405838522\n",
        "Epsilon: 1000\tTest Accuracy = 1597 / 9797 = 0.163009084413596\n",
        "Epsilon: 2000\tTest Accuracy = 1209 / 9797 = 0.12340512401755639\"\"\"\n",
        "\n",
        "\n",
        "\n",
        "\n",
        "\n",
        "epsilons = [0, .01, .04, .07, .1, .4, .5, .6, .9, .93, .96, .99, 1]\n",
        "plt.figure(figsize=(15,5))\n",
        "plt.plot(epsilons, parse_data(net_res1), \"s-\")\n",
        "plt.plot(epsilons, parse_data(net_res2), \"o-\")\n",
        "plt.plot(epsilons, parse_data(net_res3), \"<-\")\n",
        "plt.plot(epsilons, parse_data(net_res4), \"<-\")\n",
        "plt.plot(epsilons, parse_data(net_res5), \"*-\")\n",
        "plt.plot(epsilons[:7], parse_data(fgsm_res1), \"s--\")\n",
        "plt.plot(epsilons[:7], parse_data(fgsm_res2), \"o--\")\n",
        "\n",
        "# plt.plot(np.log10(infs),GAUSS_res, 's-')\n",
        "# plt.yticks(np.arange(0, 1.1, step=0.1))\n",
        "plt.xticks(epsilons, [str(e) for e in epsilons], rotation=90)\n",
        "plt.title(\"MNIST\")\n",
        "plt.xlabel(\"$\\epsilon$\", fontsize=14)\n",
        "plt.ylabel(\"Accuracy\")\n",
        "plt.xlim(-0.01,1.01)\n",
        "plt.grid(True)\n",
        "plt.legend(['NKE (steps = 1)', 'NKE (steps = 2)', 'NKE (steps = 3)', 'NKE (steps = 4)', 'NKE (steps = 5)', 'BIM (steps = 1)', 'BIM (steps = 2)'])\n",
        "plt.show()\n",
        "\n",
        "# np.linspace(0,77,13).tolist()+[100,200,500,1000,2000]"
      ],
      "execution_count": null,
      "outputs": [
        {
          "output_type": "display_data",
          "data": {
            "text/plain": [
              "<Figure size 1080x360 with 1 Axes>"
            ],
            "image/png": "[encoded data removed]"
          },
          "metadata": {
            "needs_background": "light"
          }
        }
      ]
    },
    {
      "cell_type": "code",
      "source": [
        ""
      ],
      "metadata": {
        "id": "myCdnMpDkamo"
      },
      "execution_count": null,
      "outputs": []
    },
    {
      "cell_type": "markdown",
      "source": [
        ""
      ],
      "metadata": {
        "id": "eee5VjWFgEYc"
      }
    }
  ]
}